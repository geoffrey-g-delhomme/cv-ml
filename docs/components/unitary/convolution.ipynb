{
 "cells": [
  {
   "attachments": {},
   "cell_type": "markdown",
   "metadata": {},
   "source": [
    "# Convolution"
   ]
  },
  {
   "attachments": {},
   "cell_type": "markdown",
   "metadata": {},
   "source": [
    "Inotroduced in: ..."
   ]
  },
  {
   "attachments": {},
   "cell_type": "markdown",
   "metadata": {},
   "source": [
    "## Highlights\n",
    "\n",
    "**The main idea of convolutional layers is to provide spatial and scale invariance when combien with max pool layers.**\n",
    "\n",
    "The 2D convolution consists of two steps:\n",
    "- sampling using a regular grid $\\mathcal{R}$ over the input feature map\n",
    "- summation of sampled values weighted by $\\textbf{w}$\n",
    "\n",
    "The grid $\\mathcal{R}$ defines the receptive field size and dilation.\n",
    "\n",
    "For each location $\\mathbf{p}_0$ on the output feature map $\\mathbf{y}$:\n",
    "\n",
    "$$\n",
    "\\mathbf{y} \\left ( \\mathbf{p}_0 \\right ) = \\sum_{\\mathbf{p}_n \\in \\mathcal{R}} \\mathbf{w}\\left(\\mathbf{p}_n\\right) \\cdot \\mathbf{x}\\left(\\mathbf{p}_0 + \\mathbf{p}_n\\right)\n",
    "$$"
   ]
  },
  {
   "attachments": {},
   "cell_type": "markdown",
   "metadata": {},
   "source": [
    "## Code"
   ]
  },
  {
   "attachments": {},
   "cell_type": "markdown",
   "metadata": {},
   "source": [
    "https://github.com/msracver/Deformable-ConvNets"
   ]
  }
 ],
 "metadata": {
  "language_info": {
   "name": "python"
  },
  "orig_nbformat": 4
 },
 "nbformat": 4,
 "nbformat_minor": 2
}
