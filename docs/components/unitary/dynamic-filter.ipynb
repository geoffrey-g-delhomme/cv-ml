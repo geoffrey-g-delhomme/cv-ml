{
 "cells": [
  {
   "attachments": {},
   "cell_type": "markdown",
   "metadata": {},
   "source": [
    "# Dynamic Filter"
   ]
  },
  {
   "attachments": {},
   "cell_type": "markdown",
   "metadata": {},
   "source": [
    "Introduced in: [Dynamic Filter Networks](https://arxiv.org/abs/1605.09673)"
   ]
  },
  {
   "attachments": {},
   "cell_type": "markdown",
   "metadata": {},
   "source": [
    "![](../../assets/dynamic-filter-networks-1.png)\n",
    "\n",
    "The two inputs of the module can be either identical or different, depending on the task.\n",
    "\n",
    "**NOTE**: Do not mix model parameters and dynamically generated parameters.\n",
    "\n",
    "Upper branch A consist in computing the filter parameters applied on the lower branch B.\n",
    "\n",
    "### Filter-Generating Network\n",
    "\n",
    "The filter-generating network can be implemented with any differential architecture, such as a multilayer perceptron or a convolutional network.\n",
    "\n",
    "![](../../assets/dynamic-filter-networks-2.png)\n",
    "\n",
    "Input A $I_A \\in \\mathbb{R}^{h \\times w \\times c_A}$ is used to compute the output filters $\\mathcal{F}_\\theta$ parameterized by $\\theta \\in \\mathbb{R}^{s \\times s \\times c_B \\times n \\times d}$ where:\n",
    "- $s$ is the filter size\n",
    "- $c_B$ the number of channels in input $B$\n",
    "- $n$ the number of filters\n",
    "- $d$ is equal to:\n",
    "    - $1$ for dynamic convolution\n",
    "    - $h \\times w$ for dynamic local filtering\n",
    "\n",
    "Then the filter $\\mathcal{F}_\\theta$ is applied to input $B$ $I_B \\in \\mathbb{R}^{h \\times w \\times c_B}$ to generate output $G = \\mathcal{F}_/theta \\left( I_B \\right)$ with $g \\in \\mathbb{R}^{h \\times w \\times n}$.\n",
    "\n",
    "### Dynamic Filtering Layer\n",
    "\n",
    "**NOTE**: For ease of notation, it is assumed below that $n = 1$ and $c_B = 1$.\n",
    "\n",
    "#### Dynamic convolution layer\n",
    "\n",
    "The filters used here are only sample specific.\n",
    "\n",
    "$$\n",
    "G(i,j) = \\mathcal{F}_\\theta \\left ( I_B(i,j) \\right )\n",
    "$$\n",
    "\n",
    "#### Dynamic local filtering layer\n",
    "\n",
    "The filters used here are not only sample specific, but also position specific.\n",
    "\n",
    "$$\n",
    "G(i,j) = \\mathcal{F}^{(i,j)} \\left ( I_B(i,j) \\right )\n",
    "$$\n",
    "\n",
    "**NOTE**: The dynamic convolution layer is a subcase of the dynamic local filtering where the local filters are shared over the image's sptial dimensions."
   ]
  },
  {
   "attachments": {},
   "cell_type": "markdown",
   "metadata": {},
   "source": [
    "## Code"
   ]
  },
  {
   "attachments": {},
   "cell_type": "markdown",
   "metadata": {},
   "source": [
    "None."
   ]
  }
 ],
 "metadata": {
  "language_info": {
   "name": "python"
  },
  "orig_nbformat": 4
 },
 "nbformat": 4,
 "nbformat_minor": 2
}
