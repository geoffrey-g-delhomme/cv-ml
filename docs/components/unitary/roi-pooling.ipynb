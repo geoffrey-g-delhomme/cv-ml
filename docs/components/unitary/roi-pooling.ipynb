{
 "cells": [
  {
   "attachments": {},
   "cell_type": "markdown",
   "metadata": {},
   "source": [
    "# RoI Pooling"
   ]
  },
  {
   "attachments": {},
   "cell_type": "markdown",
   "metadata": {},
   "source": [
    "Inotroduced in: ..."
   ]
  },
  {
   "attachments": {},
   "cell_type": "markdown",
   "metadata": {},
   "source": [
    "## Highlights\n",
    "\n",
    "**It converts an input rectangular region of arbitrary size into fixed size features.**\n",
    "\n",
    "Given:\n",
    "- $\\mathbf{x}$ the input feature map\n",
    "- a RoI of size $w \\times h$\n",
    "- $\\mathbf{p}_0$ the top left corner of the RoI\n",
    "\n",
    "The RoI pooling layer divides the RoI into $k \\times k$ ($k$ being a free parameter) bins and output a $k \\times k$ feature map $\\mathbf{y}$, where for the $(i,j)$-th bin ($< k$):\n",
    "\n",
    "$$\n",
    "\\mathbf{y}(i,j) = \\sum_{\\mathbf{p} \\in bin(i,j)} \\mathbf{x}(\\mathbf{p}_0 + \\mathbf{p})/n_{ij}\n",
    "$$\n",
    "\n",
    "where $n_{i,j}$ is the number of pixels in the bin.\n",
    "\n",
    "The $(i,j)$-th bin spans $\\left\\lfloor i \\frac{w}{k} \\right\\rfloor \\le p_x < \\left\\lceil (i+1)\\frac{w}{k} \\right\\rceil$ and $\\left\\lfloor j \\frac{h}{k} \\right\\rfloor \\le p_y < \\left\\lceil (j+1)\\frac{h}{k} \\right\\rceil$"
   ]
  },
  {
   "attachments": {},
   "cell_type": "markdown",
   "metadata": {},
   "source": [
    "## Code"
   ]
  },
  {
   "attachments": {},
   "cell_type": "markdown",
   "metadata": {},
   "source": [
    "https://github.com/msracver/Deformable-ConvNets"
   ]
  }
 ],
 "metadata": {
  "language_info": {
   "name": "python"
  },
  "orig_nbformat": 4
 },
 "nbformat": 4,
 "nbformat_minor": 2
}
