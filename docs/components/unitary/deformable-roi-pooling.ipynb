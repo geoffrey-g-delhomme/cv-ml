{
 "cells": [
  {
   "attachments": {},
   "cell_type": "markdown",
   "metadata": {},
   "source": [
    "# Deformable RoI Pooling"
   ]
  },
  {
   "attachments": {},
   "cell_type": "markdown",
   "metadata": {},
   "source": [
    "Inotroduced in: [Deformable Convolutional Networks](https://arxiv.org/abs/1703.06211)"
   ]
  },
  {
   "attachments": {},
   "cell_type": "markdown",
   "metadata": {},
   "source": [
    "## Highlights\n",
    "\n",
    "**The main idea is to augment the spatial sampling locations in the modules with additional offsets and learning the offsets from target tasks.**\n",
    "\n",
    "![](../../assets/deformable-contolution-networks-2.png)\n",
    "\n",
    "The Deformable RoI Pooling layer add offsets $\\left\\{ \\Delta \\mathbf{p}_{ij} | 0 \\le i,j < k \\right\\}$ to the spatial binning positions:\n",
    "\n",
    "$$\n",
    "\\mathbf{y}(i,j) = \\sum_{\\mathbf{p} \\in bin(i,j)} \\mathbf{x}(\\mathbf{p}_0 + \\mathbf{p} + \\Delta \\mathbf{p}_{ij})/n_{ij}\n",
    "$$\n",
    "\n",
    "As $\\Delta \\mathbf{p}_n$ is fractional, $\\mathbf{x}\\left(\\mathbf{p}\\right)$ is computed with bilinear interpolation:\n",
    "\n",
    "$$\n",
    "\\mathbf{x}\\left(\\mathbf{p}\\right) = \\sum_{\\mathbf{q}}G\\left(\\mathbf{q},\\mathbf{p}\\right) \\cdot \\mathbf{x}\\left(\\mathbf{q}\\right)\n",
    "$$\n",
    "\n",
    "where $\\mathbf{p} = \\mathbf{p}_0 + \\mathbf{p}_n + \\Delta \\mathbf{p}_n$ and $\\mathbf{q}$ enumerates all integral spatial locations in the feature map $\\mathbf{x}$, and $G$ is fined as:\n",
    "\n",
    "$$\n",
    "G\\left(\\mathbf{q}, \\mathbf{q}\\right) = g(q_x,p_x) \\cdot g(q_y,p_y)\n",
    "$$\n",
    "\n",
    "where $g(a,b) = \\max \\left( 0, 1 - \\left| a-b \\right| \\right)$\n",
    "\n",
    "From the figure above, the fc layer generates *normalized* (to be agnostic of RoI size) offsets $\\Delta \\hat{\\mathbf{p}}_{ij}$. Then the offsets are computed according to:\n",
    "\n",
    "$$\n",
    "\\Delta \\mathbf{p}_{ij} = \\gamma \\cdot \\Delta \\hat{\\mathbf{p}}_{ij} \\circ \\left (w,h \\right )\n",
    "$$\n",
    "\n",
    "where $\\gamma$ is a pre-defined scalar to modulate the magnitude of the offsets, and empirically set for example to 0.1."
   ]
  },
  {
   "attachments": {},
   "cell_type": "markdown",
   "metadata": {},
   "source": [
    "## Code"
   ]
  },
  {
   "attachments": {},
   "cell_type": "markdown",
   "metadata": {},
   "source": [
    "https://github.com/msracver/Deformable-ConvNets"
   ]
  }
 ],
 "metadata": {
  "language_info": {
   "name": "python"
  },
  "orig_nbformat": 4
 },
 "nbformat": 4,
 "nbformat_minor": 2
}
