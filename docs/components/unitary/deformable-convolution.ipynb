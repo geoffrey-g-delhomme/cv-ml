{
 "cells": [
  {
   "attachments": {},
   "cell_type": "markdown",
   "metadata": {},
   "source": [
    "# Deformable Convolution"
   ]
  },
  {
   "attachments": {},
   "cell_type": "markdown",
   "metadata": {},
   "source": [
    "Inotroduced in: [Deformable Convolutional Networks](https://arxiv.org/abs/1703.06211)"
   ]
  },
  {
   "attachments": {},
   "cell_type": "markdown",
   "metadata": {},
   "source": [
    "## Highlights\n",
    "\n",
    "**The main idea is to augment the spatial sampling locations in the modules with additional offsets and learning the offsets from target tasks.**\n",
    "\n",
    "![](../../assets/deformable-contolution-networks-1.png)\n",
    "\n",
    "For each location $\\mathbf{p}_0$ on the output feature map $\\mathbf{y}$, the regular grid $\\mathcal{R}$ is augmented with offsets $\\left\\{ \\Delta \\mathbf{p}_n | n=1,\\dots,N \\right\\} $ where $N = \\left | \\mathcal{R} \\right |$:\n",
    "\n",
    "$$\n",
    "\\mathbf{y} \\left ( \\mathbf{p}_0 \\right ) = \\sum_{\\mathbf{p}_n \\in \\mathcal{R}} \\mathbf{w}\\left(\\mathbf{p}_n\\right) \\cdot \\mathbf{x}\\left(\\mathbf{p}_0 + \\mathbf{p}_n + \\Delta \\mathbf{p}_n\\right)\n",
    "$$\n",
    "\n",
    "As $\\Delta \\mathbf{p}_n$ is fractional, $\\mathbf{x}\\left(\\mathbf{p}\\right)$ is computed with bilinear interpolation:\n",
    "\n",
    "$$\n",
    "\\mathbf{x}\\left(\\mathbf{p}\\right) = \\sum_{\\mathbf{q}}G\\left(\\mathbf{q},\\mathbf{p}\\right) \\cdot \\mathbf{x}\\left(\\mathbf{q}\\right)\n",
    "$$\n",
    "\n",
    "where $\\mathbf{p} = \\mathbf{p}_0 + \\mathbf{p}_n + \\Delta \\mathbf{p}_n$ and $\\mathbf{q}$ enumerates all integral spatial locations in the feature map $\\mathbf{x}$, and $G$ is fined as:\n",
    "\n",
    "$$\n",
    "G\\left(\\mathbf{q}, \\mathbf{q}\\right) = g(q_x,p_x) \\cdot g(q_y,p_y)\n",
    "$$\n",
    "\n",
    "where $g(a,b) = \\max \\left( 0, 1 - \\left| a-b \\right| \\right)$"
   ]
  },
  {
   "attachments": {},
   "cell_type": "markdown",
   "metadata": {},
   "source": [
    "## Code"
   ]
  },
  {
   "attachments": {},
   "cell_type": "markdown",
   "metadata": {},
   "source": [
    "https://github.com/msracver/Deformable-ConvNets"
   ]
  }
 ],
 "metadata": {
  "language_info": {
   "name": "python"
  },
  "orig_nbformat": 4
 },
 "nbformat": 4,
 "nbformat_minor": 2
}
