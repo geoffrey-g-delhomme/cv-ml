{
 "cells": [
  {
   "attachments": {},
   "cell_type": "markdown",
   "metadata": {},
   "source": [
    "# Local Response Normalization"
   ]
  },
  {
   "attachments": {},
   "cell_type": "markdown",
   "metadata": {},
   "source": [
    "Introduced in [ImageNet Classification with Deep Convolutional Neural Networks](https://papers.nips.cc/paper_files/paper/2012/file/c399862d3b9d6b76c8436e924a68c45b-Paper.pdf)"
   ]
  },
  {
   "attachments": {},
   "cell_type": "markdown",
   "metadata": {},
   "source": [
    "Denoting by $a_{x,y}^i$ the activity of a neuron computed by applying kernel $i$ at position $(x,y)$ and then applying the ReLU nonlinearity, the reponse-normalized activity $b_{x,y}^i$ is given by the expression:\n",
    "\n",
    "$$\n",
    "b_{x,y}^i = a_{x,y}^i / \\left( k + \\alpha \\sum_{j=\\max(0,i-n/2)}^{\\min(N-1,i+n/2)} \\left( a_{x,y}^i \\right)^2 \\right)^{\\beta}\n",
    "$$\n",
    "\n",
    "where:\n",
    "    - the sum runs over $n$ \"adjacent\" kernel maps at the same spatial position\n",
    "    - $N$ is the total number of kernels in the layer\n",
    "\n",
    "The constants $k$, $n$, $\\alpha$ and $\\beta$ are hyper-parameters whose values are determined using a validation set, for example $k=2$, $n=5$, $\\alpha=10^{-4}$ and $\\beta=0.75$."
   ]
  },
  {
   "cell_type": "markdown",
   "metadata": {},
   "source": []
  }
 ],
 "metadata": {
  "kernelspec": {
   "display_name": "cv-ml",
   "language": "python",
   "name": "python3"
  },
  "language_info": {
   "codemirror_mode": {
    "name": "ipython",
    "version": 3
   },
   "file_extension": ".py",
   "mimetype": "text/x-python",
   "name": "python",
   "nbconvert_exporter": "python",
   "pygments_lexer": "ipython3",
   "version": "3.10.11"
  },
  "orig_nbformat": 4
 },
 "nbformat": 4,
 "nbformat_minor": 2
}
