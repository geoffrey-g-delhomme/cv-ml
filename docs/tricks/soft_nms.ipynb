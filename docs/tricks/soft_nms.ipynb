{
 "cells": [
  {
   "attachments": {},
   "cell_type": "markdown",
   "metadata": {},
   "source": [
    "# Soft NMS"
   ]
  },
  {
   "attachments": {},
   "cell_type": "markdown",
   "metadata": {},
   "source": [
    "Introduced in: [Soft NMS](../papers/soft-nms/1704.04503.pdf) (Github: [https://github.com/aim-uofa/AdelaiDet](https://github.com/aim-uofa/AdelaiDet))"
   ]
  },
  {
   "attachments": {},
   "cell_type": "markdown",
   "metadata": {},
   "source": [
    "Soft NMS is an algorithm which decays the detection scores of all other objects as a continuous function of their overlap with $\\mathcal{M}$ (the detection with the maximum score).\n",
    "\n",
    "**NOTE**: Soft NMS is relevant to specifically distinguish overlapping elements.\n",
    "\n",
    "![](../assets/soft-nms-1.png)\n",
    "\n",
    "The paper proposes two pruning rules, based on linear or Gaussian penalty functions.\n",
    "\n",
    "## Linear penalty\n",
    "\n",
    "$$\n",
    "s_i = \\begin{cases}\n",
    "s_i, \\quad iou(\\mathcal{M}, b_i) \\lt N_t \\\\\n",
    "s_i\\left( 1 - iou(\\mathcal{M}, b_i) \\right ), \\quad iou(\\mathcal{M}, b_i) \\ge N_t\n",
    "\\end{cases}\n",
    "$$\n",
    "\n",
    "## Gaussian penalty\n",
    "\n",
    "$$\n",
    "s_i = \\begin{cases}\n",
    "s_i, \\quad iou(\\mathcal{M}, b_i) \\lt N_t \\\\\n",
    "s_i e^{-\\frac{{iou(\\mathcal{M}, b_i)}^2}{\\sigma}}, \\quad iou(\\mathcal{M}, b_i) \\ge N_t\n",
    "\\end{cases}\n",
    "$$"
   ]
  }
 ],
 "metadata": {
  "language_info": {
   "name": "python"
  },
  "orig_nbformat": 4
 },
 "nbformat": 4,
 "nbformat_minor": 2
}
