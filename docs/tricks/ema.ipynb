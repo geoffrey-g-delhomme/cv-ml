{
 "cells": [
  {
   "attachments": {},
   "cell_type": "markdown",
   "metadata": {},
   "source": [
    "# Exponential Moving Average"
   ]
  },
  {
   "attachments": {},
   "cell_type": "markdown",
   "metadata": {},
   "source": [
    "When training a model, it is often beneficial to maintain moving averages of the trained parameters.\n",
    "The Exponential Moving Average (EMA) compute the moving averages of trained parameters using exponential decay. For each paramter $W$, we maintain a shadow parameter\n",
    "\n",
    "$$\n",
    "W_{EMA} = \\lambda W_{EMA} + \\left(1 - \\lambda\\right)W\n",
    "$$\n",
    "\n",
    "with for example $\\lambda = 0.9998$ (PP-YOLOE)."
   ]
  },
  {
   "attachments": {},
   "cell_type": "markdown",
   "metadata": {},
   "source": [
    "Used in:\n",
    "- [PP-YOLO](../architecture/pp-yolo.ipynb)"
   ]
  }
 ],
 "metadata": {
  "language_info": {
   "name": "python"
  },
  "orig_nbformat": 4
 },
 "nbformat": 4,
 "nbformat_minor": 2
}
