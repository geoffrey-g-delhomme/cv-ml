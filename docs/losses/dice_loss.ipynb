{
 "cells": [
  {
   "attachments": {},
   "cell_type": "markdown",
   "metadata": {},
   "source": [
    "# [Dice Loss](../papers/dice-loss/1606.04797.pdf)"
   ]
  },
  {
   "attachments": {},
   "cell_type": "markdown",
   "metadata": {},
   "source": [
    "Introduced in: [V-Net](../papers/dice-loss/1704.04503.pdf)"
   ]
  },
  {
   "attachments": {},
   "cell_type": "markdown",
   "metadata": {},
   "source": [
    "This loss tackles inbalance between for example foreground (rare) and background classes in image semantic segmentation. The Dice loss is based on maximizing the Dice coefficient computed with softmax output confidence scores:\n",
    "\n",
    "$$\n",
    "D = \\frac{2\\sum_i^Np_ig_i}{\\sum_i^Np_i^2+\\sum_i^Ng_i^2}\n",
    "$$\n",
    "\n",
    "where $p_i \\in P$ are the predictions scores and $g_i \\in G$ are the ground truth.\n",
    "\n",
    "The Dice loss is defined as:\n",
    "\n",
    "$$\n",
    "L_{DICE} = 1 - D(p, q)\n",
    "$$\n",
    "\n",
    "**The Dice loss layer does not need sample re-weighting when the amount of background and foreground pixels is strongly unbalanced and is indicated for binary segmentation tasks.**"
   ]
  },
  {
   "attachments": {},
   "cell_type": "markdown",
   "metadata": {},
   "source": [
    "Used in:\n",
    "- [SOLO](../papers/solo/1912.04488.pdf)"
   ]
  }
 ],
 "metadata": {
  "language_info": {
   "name": "python"
  },
  "orig_nbformat": 4
 },
 "nbformat": 4,
 "nbformat_minor": 2
}
