{
 "cells": [
  {
   "attachments": {},
   "cell_type": "markdown",
   "metadata": {},
   "source": [
    "# [Focal Loss](../papers/focal-loss/1708.02002.pdf)"
   ]
  },
  {
   "attachments": {},
   "cell_type": "markdown",
   "metadata": {},
   "source": [
    "The focal loss allows to emphasize the impact of misclassified examples and reduce the mass effect of well classified ones.\n",
    "\n",
    "![](../assets/focal-loss-1.png)\n",
    "\n",
    "The focal loss is computed according to:\n",
    "$$\n",
    "FL \\left( p_t \\right) = - \\alpha_t \\left( 1 - p_t \\right )^{\\gamma}\\log{\\left(p_t\\right)}\n",
    "$$\n",
    "where: $p_t$ is $p \\in [0,1]$ if $y=1$ and $1-p$ otherwise. In the original paper, $\\gamma=2$ and $\\alpha=0.25$.\n",
    "\n",
    "**NOTE**: The implementation of the loss layer combines the last sigmoid activation operation to compute $p$ for greater numerical stability.\n",
    "\n",
    "**IMPORTANT**: The total focal loss of an image is computed as the sum of the focal loss over all the anchors, *normalized by the number of anchors assigned to a ground-truth box*."
   ]
  },
  {
   "attachments": {},
   "cell_type": "markdown",
   "metadata": {},
   "source": [
    "Used in:\n",
    "- [SOLO](../papers/solo/1912.04488.pdf)"
   ]
  }
 ],
 "metadata": {
  "language_info": {
   "name": "python"
  },
  "orig_nbformat": 4
 },
 "nbformat": 4,
 "nbformat_minor": 2
}
