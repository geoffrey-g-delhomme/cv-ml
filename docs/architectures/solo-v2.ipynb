{
 "cells": [
  {
   "attachments": {},
   "cell_type": "markdown",
   "metadata": {},
   "source": [
    "# [SOLOv2: Dynamic and Fast Instance Segmentation](../papers/solo-v2/2003.10152.pdf)"
   ]
  },
  {
   "attachments": {},
   "cell_type": "markdown",
   "metadata": {},
   "source": [
    "## Highlights\n",
    "\n",
    "**No anchor box is needed, nor normalization, nor bounding box detection.**\n",
    "\n",
    "Based on SOLO, improving identified performance bottlenecks:\n",
    "- inefficient mask representation and learning\n",
    "- not high enough resolution for finer mask predictions\n",
    "- slow mask NMS\n",
    "\n",
    "![](../assets/solov2-1.png)\n",
    "\n",
    "## Related Work\n",
    "\n",
    "### Instance segmentation\n",
    "\n",
    "Three main streams:\n",
    "- *top-down methods*: detect bounding box, then segment the object in the box\n",
    "- *bottom-up methods*: label pixels then cluster per instance\n",
    "- *direct method*: direct instance segmentation (SOLO-like)\n",
    "\n",
    "### Dynamic Convolutions\n",
    "\n",
    "In traditional convolution layers, the learned convolution kernels stay fixed and are independent on the input; the weights are the same for arbotrary image and any location of the image.\n",
    "Other references include Spatial Transform Networks, Dynamic filter, Deformable Convolutional Networks.\n",
    "\n",
    "### Non-Maximum Suppresion\n",
    "\n",
    "\n"
   ]
  },
  {
   "attachments": {},
   "cell_type": "markdown",
   "metadata": {},
   "source": [
    "## Code"
   ]
  },
  {
   "attachments": {},
   "cell_type": "markdown",
   "metadata": {},
   "source": [
    "Training code is available here: [https://github.com/aim-uofa/AdelaiDet](https://github.com/aim-uofa/AdelaiDet)."
   ]
  }
 ],
 "metadata": {
  "language_info": {
   "name": "python"
  },
  "orig_nbformat": 4
 },
 "nbformat": 4,
 "nbformat_minor": 2
}
