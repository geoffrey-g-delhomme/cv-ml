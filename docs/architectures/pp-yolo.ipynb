{
 "cells": [
  {
   "attachments": {},
   "cell_type": "markdown",
   "metadata": {},
   "source": [
    "# [PP-YOLO: An Effective and Efficient Implementation of Object Detector](../papers/pp-yolo/2007.12099.pdf)"
   ]
  },
  {
   "attachments": {},
   "cell_type": "markdown",
   "metadata": {},
   "source": [
    "## Highlights"
   ]
  },
  {
   "attachments": {},
   "cell_type": "markdown",
   "metadata": {},
   "source": [
    "This architecture is based on YOLO V3. \n",
    "\n",
    "**Data augmentation**: MixUp\n",
    "\n",
    "### Architecture\n",
    "\n",
    "![](assets/pp-yolo-1.png)\n",
    "\n",
    "(stars: SPP, dimaond: CoordConv, triangle: DropBlock)\n",
    "\n",
    "#### Backbone\n",
    "- named: ResNet50-vd-dcn\n",
    "- baseline: ResNet50-vd\n",
    "- replace 3x3 convolutions layers in the last stage with deformable convolution layers.\n",
    "\n",
    "#### Detection Neck\n",
    "- baseline: FPN\n",
    "- concsidering the output feature map of pyramid level $l$ as $P_l$, where $l=3,4,5$, the resolution is $\\left[W/2^l, H/2^l\\right]$ for an input image of size $\\left[W, H\\right]$.\n",
    "\n",
    "#### Detection Head\n",
    "- baseline: YOLO V3 detection heads\n",
    "- 3 anchors\n",
    "- `3(K+5)`: `K` class confidence score + `4` bounding box localization + objectness confidence\n",
    "\n",
    "### Tricks\n",
    "\n",
    "#### Larger Batch Size\n",
    "- change from 64 to 192\n",
    "\n",
    "#### EMA\n",
    "- use EMA with $\\lambda = 0.9998$\n",
    "\n",
    "#### DropBlock\n",
    "- only applied to the FPN\n",
    "\n",
    "#### IoU Loss\n",
    "- add the computation of IoU loss\n",
    "- no improvement introducing GIoU / CIoU losses -> keep IoU\n",
    "\n",
    "#### IoU Aware\n",
    "- for inference, `final confidence = objectness * classification * iou`\n",
    "\n",
    "#### Grid Sensitive\n",
    "YOLO V3 bounding box center decoding is:\n",
    "$$\n",
    "\\begin{cases}\n",
    "x = s \\cdot \\left( g_x + \\sigma \\left( p_x \\right) \\right)\\\\\n",
    "y = s \\cdot \\left( g_y + \\sigma \\left( p_y \\right) \\right)\n",
    "\\end{cases}\n",
    "$$\n",
    "with $\\sigma$ the sigmoid function, $g_x$ and $g_y$ are integeres and $s$ is a scale factor. As sigmoid boundary cannot be reached:\n",
    "$$\n",
    "\\begin{cases}\n",
    "x = s \\cdot \\left( g_x + \\alpha \\cdot \\sigma \\left( p_x \\right) - \\left (\\alpha - 1 \\right) / 2 \\right)\\\\\n",
    "y = s \\cdot \\left( g_y + \\alpha \\cdot \\sigma \\left( p_y \\right) - \\left (\\alpha - 1 \\right) / 2 \\right)\n",
    "\\end{cases}\n",
    "$$\n",
    "where $\\alpha = 1.05$ here.\n",
    "\n",
    "#### Matrix NMS\n",
    "\n"
   ]
  },
  {
   "attachments": {},
   "cell_type": "markdown",
   "metadata": {},
   "source": [
    "## Code"
   ]
  },
  {
   "attachments": {},
   "cell_type": "markdown",
   "metadata": {},
   "source": [
    "Training code is available here: [https://github.com/PaddlePaddle/PaddleDetection](https://github.com/PaddlePaddle/PaddleDetection)."
   ]
  },
  {
   "attachments": {},
   "cell_type": "markdown",
   "metadata": {},
   "source": []
  }
 ],
 "metadata": {
  "language_info": {
   "name": "python"
  },
  "orig_nbformat": 4
 },
 "nbformat": 4,
 "nbformat_minor": 2
}
