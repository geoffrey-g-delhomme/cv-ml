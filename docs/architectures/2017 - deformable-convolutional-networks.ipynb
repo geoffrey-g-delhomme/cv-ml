{
 "cells": [
  {
   "attachments": {},
   "cell_type": "markdown",
   "metadata": {},
   "source": [
    "# [Deformable Convolutional Networks](https://arxiv.org/abs/1703.06211)"
   ]
  },
  {
   "attachments": {},
   "cell_type": "markdown",
   "metadata": {},
   "source": [
    "## Highlights\n",
    "\n",
    "The paper introduces:\n",
    "- deformable convolutions module\n",
    "- deformable  RoI pooling module\n",
    "\n",
    "**The main idea is to augment the spatial sampling locations in the modules with additional offsets and learning the offsets from target tasks.**\n",
    "\n"
   ]
  },
  {
   "attachments": {},
   "cell_type": "markdown",
   "metadata": {},
   "source": [
    "## Code"
   ]
  },
  {
   "attachments": {},
   "cell_type": "markdown",
   "metadata": {},
   "source": [
    "https://github.com/msracver/Deformable-ConvNets"
   ]
  }
 ],
 "metadata": {
  "language_info": {
   "name": "python"
  },
  "orig_nbformat": 4
 },
 "nbformat": 4,
 "nbformat_minor": 2
}
