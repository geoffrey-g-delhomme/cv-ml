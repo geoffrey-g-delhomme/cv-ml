{
 "cells": [
  {
   "attachments": {},
   "cell_type": "markdown",
   "metadata": {},
   "source": [
    "# [ImageNet](https://www.image-net.org)"
   ]
  },
  {
   "attachments": {},
   "cell_type": "markdown",
   "metadata": {},
   "source": [
    "ImageNet is a dataset of over 15 million labeled high-resolution images belonging to roughly 22000 categories.\n",
    "\n",
    "Based on this dataset, it has been held the ImageNet Large Scale Visual Recognition Challenge (ILSVRC)from 2010 to 2017, which evaluates algorithms for object detection and image classification at large scale.\n",
    "\n",
    "On this dataset, it is custom to report:\n",
    "- top-1 error rate\n",
    "- top-5 error rate (if the ground truth label falls within the 5 best ones)"
   ]
  },
  {
   "attachments": {},
   "cell_type": "markdown",
   "metadata": {},
   "source": [
    "More information [here](https://papers.nips.cc/paper_files/paper/2012/file/c399862d3b9d6b76c8436e924a68c45b-Paper.pdf)."
   ]
  }
 ],
 "metadata": {
  "language_info": {
   "name": "python"
  },
  "orig_nbformat": 4
 },
 "nbformat": 4,
 "nbformat_minor": 2
}
